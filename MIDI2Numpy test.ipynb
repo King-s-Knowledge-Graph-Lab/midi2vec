{
 "cells": [
  {
   "cell_type": "code",
   "execution_count": 1,
   "metadata": {},
   "outputs": [
    {
     "name": "stdout",
     "output_type": "stream",
     "text": [
      "Collecting numpy\n",
      "  Using cached https://files.pythonhosted.org/packages/6a/a9/c01a2d5f7b045f508c8cefef3b079fe8c413d05498ca0ae877cffa230564/numpy-1.14.5-cp27-cp27mu-manylinux1_x86_64.whl\n",
      "Installing collected packages: numpy\n",
      "Successfully installed numpy-1.14.5\n",
      "Collecting python-midi\n",
      "\u001b[33m  Cache entry deserialization failed, entry ignored\u001b[0m\n",
      "Installing collected packages: python-midi\n",
      "Successfully installed python-midi-0.2.4\n"
     ]
    }
   ],
   "source": [
    "# Install req. packages\n",
    "! pip install numpy\n",
    "! pip install python-midi"
   ]
  },
  {
   "cell_type": "code",
   "execution_count": 42,
   "metadata": {},
   "outputs": [],
   "source": [
    "import numpy as np\n",
    "import midi\n",
    "\n",
    "np.set_printoptions(threshold=np.nan)"
   ]
  },
  {
   "cell_type": "code",
   "execution_count": 56,
   "metadata": {},
   "outputs": [],
   "source": [
    "# Initialization\n",
    "\n",
    "# MIDI file to process\n",
    "filename = 'data/warpigs.mid'\n",
    "\n",
    "## Numpy examples\n",
    "\n",
    "CHANNELS = 16\n",
    "LENGTH = 100000 # number of input MIDI songs? or number of events?\n",
    "\n",
    "ES  = 0     # size of the full event representation\n",
    "ES += 8     # event type (ES[0]: NoteOff, ES[1]: NoteOn, ES[2]: AfterTouch, ES[3]: ProgramChange, ES[4]: ControlChange, ES[5]: PitchWheel, ES[6]: ChannelAfterTouch, ES[7]: EndOfTrack)\n",
    "ES += 128   # pitch\n",
    "ES += 1     # velocity\n",
    "ES += 1     # bend\n",
    "ES += 128   # instrument\n",
    "\n",
    "#- Create a big tensor with zeros\n",
    "midi_tensor = np.zeros(shape=(LENGTH, CHANNELS, ES))\n"
   ]
  },
  {
   "cell_type": "code",
   "execution_count": null,
   "metadata": {},
   "outputs": [],
   "source": [
    "#- Iterate the MIDI file contents\n",
    "\n",
    "midi_f = midi.read_midifile(filename)\n",
    "e_counter = 0\n",
    "for n_track in range(len(midi_f)): # iterate over tracks\n",
    "    for n_event in range(len(midi_f[n_track])): # iterate over events\n",
    "        #- Create an event vector\n",
    "        event = np.zeros(ES)\n",
    "        event_midi = midi_f[n_track][n_event]\n",
    "        if type(event_midi) == midi.events.NoteOffEvent:\n",
    "            event[0] = 1\n",
    "            event[8 + event_midi.pitch] = 1\n",
    "            event[8 + 128] = event_midi.velocity / 127. # velocity range is 0-127            \n",
    "            # print event\n",
    "        elif type(event_midi) == midi.events.NoteOnEvent:\n",
    "            event[1] = 1\n",
    "            event[8 + event_midi.pitch] = 1\n",
    "            event[8 + 128] = event_midi.velocity / 127. # velocity range is 0-127 \n",
    "            # print event\n",
    "        elif type(event_midi) == midi.events.AfterTouchEvent:\n",
    "            event[2] = 1\n",
    "            event[8 + event_midi.pitch] = 1            \n",
    "            event[8 + 128] = event_midi.value / 127. # pressure range is 0-127 --- safe to store this here?\n",
    "            # print event\n",
    "        elif type(event_midi) == midi.events.ProgramChangeEvent:\n",
    "            event[3] = 1\n",
    "            event[8 + 128 + 1 + 1 + event_midi.value] = 1\n",
    "            # print event\n",
    "        elif type(event_midi) == midi.events.ControlChangeEvent:\n",
    "            # TODO: store as velocity and pressure? Read docs to get clear picture\n",
    "            event[4] = 1\n",
    "            # event_midi.control\n",
    "            # event_midi.value            \n",
    "        elif type(event_midi) == midi.events.PitchWheelEvent:\n",
    "            event[5] = 1\n",
    "            event[8 + 128 + 1] = event_midi.pitch / 8192. # pitch bend range is -8192-8192\n",
    "        elif type(event_midi) == midi.events.ChannelAfterTouchEvent:\n",
    "            event[6] = 1\n",
    "            # event_midi.value            \n",
    "#         elif type(event_midi) == midi.events.EndOfTrackEvent:\n",
    "#             event[7] = 1\n",
    "        else:\n",
    "            continue\n",
    "            # print \"Event of type {} unmanaged\".format(type(event_midi))\n",
    "        # print event\n",
    "        #- Add the vector         \n",
    "        midi_tensor[e_counter , event_midi.channel, :] = event\n",
    "        e_counter += 1\n",
    "# print midi_tensor\n",
    "\n",
    "# Questions:\n",
    "# 1. distinction tracks / channels?\n",
    "# 2. length are events or midis?\n",
    "# 3. slot for bend goes from [-1, 1], should it be [0,1]?\n",
    "# 4. afterouch events (key and channel) have no specific slot for pressure, key using now same as velocity\n",
    "# 5. end of track events have no channel... leaving out"
   ]
  },
  {
   "cell_type": "code",
   "execution_count": 22,
   "metadata": {},
   "outputs": [],
   "source": [
    "# Save to a compressed tensor\n",
    "np.savez_compressed('midi.npz', midi=midi_tensor)"
   ]
  },
  {
   "cell_type": "code",
   "execution_count": 23,
   "metadata": {},
   "outputs": [
    {
     "data": {
      "text/plain": [
       "(100, 16, 266)"
      ]
     },
     "execution_count": 23,
     "metadata": {},
     "output_type": "execute_result"
    }
   ],
   "source": [
    "# Load\n",
    "midi_loaded = np.load('./midi.npz')['midi']\n",
    "midi_loaded.shape"
   ]
  },
  {
   "cell_type": "code",
   "execution_count": null,
   "metadata": {},
   "outputs": [],
   "source": []
  }
 ],
 "metadata": {
  "kernelspec": {
   "display_name": "Python 2",
   "language": "python",
   "name": "python2"
  },
  "language_info": {
   "codemirror_mode": {
    "name": "ipython",
    "version": 2
   },
   "file_extension": ".py",
   "mimetype": "text/x-python",
   "name": "python",
   "nbconvert_exporter": "python",
   "pygments_lexer": "ipython2",
   "version": "2.7.15rc1"
  }
 },
 "nbformat": 4,
 "nbformat_minor": 2
}
