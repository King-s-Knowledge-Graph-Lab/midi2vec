{
 "cells": [
  {
   "cell_type": "code",
   "execution_count": null,
   "metadata": {},
   "outputs": [],
   "source": [
    "# Install req. packages\n",
    "! pip install numpy"
   ]
  },
  {
   "cell_type": "code",
   "execution_count": 1,
   "metadata": {},
   "outputs": [],
   "source": [
    "import numpy as np"
   ]
  },
  {
   "cell_type": "code",
   "execution_count": 2,
   "metadata": {},
   "outputs": [],
   "source": [
    "## Numpy examples\n",
    "\n",
    "CHANNELS = 16\n",
    "LENGTH = 100\n",
    "\n",
    "ES  = 0     # size of the full event representation\n",
    "ES += 8     # event type\n",
    "ES += 128   # pitch\n",
    "ES += 1     # velocity\n",
    "ES += 1     # bend\n",
    "ES += 128   # instrument\n",
    "\n",
    "#- Create a big tensor with zeros\n",
    "midi_tensor = np.zeros(shape=(LENGTH, CHANNELS, ES))\n",
    "\n",
    "#- Create an event vector\n",
    "event = np.zeros(ES)\n",
    "event[6] = 1\n",
    "event[8 + 46] = 1\n",
    "event[136] = 0.45\n",
    "# ... etc\n",
    "\n",
    "#- Add the vector \n",
    "midi_tensor[24, 4, :] = event"
   ]
  },
  {
   "cell_type": "code",
   "execution_count": 3,
   "metadata": {},
   "outputs": [],
   "source": [
    "# Save to a compressed tensor\n",
    "np.savez_compressed('midi.npz', midi=midi_tensor)"
   ]
  },
  {
   "cell_type": "code",
   "execution_count": 4,
   "metadata": {},
   "outputs": [
    {
     "data": {
      "text/plain": [
       "(100, 16, 266)"
      ]
     },
     "execution_count": 4,
     "metadata": {},
     "output_type": "execute_result"
    }
   ],
   "source": [
    "# Load\n",
    "midi_loaded = np.load('./midi.npz')['midi']\n",
    "midi_loaded.shape"
   ]
  },
  {
   "cell_type": "code",
   "execution_count": null,
   "metadata": {},
   "outputs": [],
   "source": []
  }
 ],
 "metadata": {
  "kernelspec": {
   "display_name": "Python 3",
   "language": "python",
   "name": "python3"
  },
  "language_info": {
   "codemirror_mode": {
    "name": "ipython",
    "version": 3
   },
   "file_extension": ".py",
   "mimetype": "text/x-python",
   "name": "python",
   "nbconvert_exporter": "python",
   "pygments_lexer": "ipython3",
   "version": "3.5.5"
  }
 },
 "nbformat": 4,
 "nbformat_minor": 2
}
